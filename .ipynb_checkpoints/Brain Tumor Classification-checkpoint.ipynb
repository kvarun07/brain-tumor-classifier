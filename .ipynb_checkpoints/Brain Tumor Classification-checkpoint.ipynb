{
 "cells": [
  {
   "cell_type": "markdown",
   "metadata": {
    "id": "rTpuX4-S8rJo"
   },
   "source": [
    "<center> <h1> Brain Tumor Classification </ce"
   ]
  },
  {
   "cell_type": "markdown",
   "metadata": {
    "id": "iZucBMvi8Q8x"
   },
   "source": [
    "## Clone the Github Repo to access the Dataset"
   ]
  },
  {
   "cell_type": "code",
   "execution_count": null,
   "metadata": {
    "colab": {
     "base_uri": "https://localhost:8080/"
    },
    "id": "ibeGaZg8fkuV",
    "outputId": "eb1a107e-056d-4902-ec95-ce15ff5fdfda"
   },
   "outputs": [
    {
     "name": "stdout",
     "output_type": "stream",
     "text": [
      "Cloning into 'Coursera-Content'...\n",
      "remote: Enumerating objects: 3046, done.\u001b[K\n",
      "remote: Counting objects:   0% (1/3046)\u001b[K\r",
      "remote: Counting objects:   1% (31/3046)\u001b[K\r",
      "remote: Counting objects:   2% (61/3046)\u001b[K\r",
      "remote: Counting objects:   3% (92/3046)\u001b[K\r",
      "remote: Counting objects:   4% (122/3046)\u001b[K\r",
      "remote: Counting objects:   5% (153/3046)\u001b[K\r",
      "remote: Counting objects:   6% (183/3046)\u001b[K\r",
      "remote: Counting objects:   7% (214/3046)\u001b[K\r",
      "remote: Counting objects:   8% (244/3046)\u001b[K\r",
      "remote: Counting objects:   9% (275/3046)\u001b[K\r",
      "remote: Counting objects:  10% (305/3046)\u001b[K\r",
      "remote: Counting objects:  11% (336/3046)\u001b[K\r",
      "remote: Counting objects:  12% (366/3046)\u001b[K\r",
      "remote: Counting objects:  13% (396/3046)\u001b[K\r",
      "remote: Counting objects:  14% (427/3046)\u001b[K\r",
      "remote: Counting objects:  15% (457/3046)\u001b[K\r",
      "remote: Counting objects:  16% (488/3046)\u001b[K\r",
      "remote: Counting objects:  17% (518/3046)\u001b[K\r",
      "remote: Counting objects:  18% (549/3046)\u001b[K\r",
      "remote: Counting objects:  19% (579/3046)\u001b[K\r",
      "remote: Counting objects:  20% (610/3046)\u001b[K\r",
      "remote: Counting objects:  21% (640/3046)\u001b[K\r",
      "remote: Counting objects:  22% (671/3046)\u001b[K\r",
      "remote: Counting objects:  23% (701/3046)\u001b[K\r",
      "remote: Counting objects:  24% (732/3046)\u001b[K\r",
      "remote: Counting objects:  25% (762/3046)\u001b[K\r",
      "remote: Counting objects:  26% (792/3046)\u001b[K\r",
      "remote: Counting objects:  27% (823/3046)\u001b[K\r",
      "remote: Counting objects:  28% (853/3046)\u001b[K\r",
      "remote: Counting objects:  29% (884/3046)\u001b[K\r",
      "remote: Counting objects:  30% (914/3046)\u001b[K\r",
      "remote: Counting objects:  31% (945/3046)\u001b[K\r",
      "remote: Counting objects:  32% (975/3046)\u001b[K\r",
      "remote: Counting objects:  33% (1006/3046)\u001b[K\r",
      "remote: Counting objects:  34% (1036/3046)\u001b[K\r",
      "remote: Counting objects:  35% (1067/3046)\u001b[K\r",
      "remote: Counting objects:  36% (1097/3046)\u001b[K\r",
      "remote: Counting objects:  37% (1128/3046)\u001b[K\r",
      "remote: Counting objects:  38% (1158/3046)\u001b[K\r",
      "remote: Counting objects:  39% (1188/3046)\u001b[K\r",
      "remote: Counting objects:  40% (1219/3046)\u001b[K\r",
      "remote: Counting objects:  41% (1249/3046)\u001b[K\r",
      "remote: Counting objects:  42% (1280/3046)\u001b[K\r",
      "remote: Counting objects:  43% (1310/3046)\u001b[K\r",
      "remote: Counting objects:  44% (1341/3046)\u001b[K\r",
      "remote: Counting objects:  45% (1371/3046)\u001b[K\r",
      "remote: Counting objects:  46% (1402/3046)\u001b[K\r",
      "remote: Counting objects:  47% (1432/3046)\u001b[K\r",
      "remote: Counting objects:  48% (1463/3046)\u001b[K\r",
      "remote: Counting objects:  49% (1493/3046)\u001b[K\r",
      "remote: Counting objects:  50% (1523/3046)\u001b[K\r",
      "remote: Counting objects:  51% (1554/3046)\u001b[K\r",
      "remote: Counting objects:  52% (1584/3046)\u001b[K\r",
      "remote: Counting objects:  53% (1615/3046)\u001b[K\r",
      "remote: Counting objects:  54% (1645/3046)\u001b[K\r",
      "remote: Counting objects:  55% (1676/3046)\u001b[K\r",
      "remote: Counting objects:  56% (1706/3046)\u001b[K\r",
      "remote: Counting objects:  57% (1737/3046)\u001b[K\r",
      "remote: Counting objects:  58% (1767/3046)\u001b[K\r",
      "remote: Counting objects:  59% (1798/3046)\u001b[K\r",
      "remote: Counting objects:  60% (1828/3046)\u001b[K\r",
      "remote: Counting objects:  61% (1859/3046)\u001b[K\r",
      "remote: Counting objects:  62% (1889/3046)\u001b[K\r",
      "remote: Counting objects:  63% (1919/3046)\u001b[K\r",
      "remote: Counting objects:  64% (1950/3046)\u001b[K\r",
      "remote: Counting objects:  65% (1980/3046)\u001b[K\r",
      "remote: Counting objects:  66% (2011/3046)\u001b[K\r",
      "remote: Counting objects:  67% (2041/3046)\u001b[K\r",
      "remote: Counting objects:  68% (2072/3046)\u001b[K\r",
      "remote: Counting objects:  69% (2102/3046)\u001b[K\r",
      "remote: Counting objects:  70% (2133/3046)\u001b[K\r",
      "remote: Counting objects:  71% (2163/3046)\u001b[K\r",
      "remote: Counting objects:  72% (2194/3046)\u001b[K\r",
      "remote: Counting objects:  73% (2224/3046)\u001b[K\r",
      "remote: Counting objects:  74% (2255/3046)\u001b[K\r",
      "remote: Counting objects:  75% (2285/3046)\u001b[K\r",
      "remote: Counting objects:  76% (2315/3046)\u001b[K\r",
      "remote: Counting objects:  77% (2346/3046)\u001b[K\r",
      "remote: Counting objects:  78% (2376/3046)\u001b[K\r",
      "remote: Counting objects:  79% (2407/3046)\u001b[K\r",
      "remote: Counting objects:  80% (2437/3046)\u001b[K\r",
      "remote: Counting objects:  81% (2468/3046)\u001b[K\r",
      "remote: Counting objects:  82% (2498/3046)\u001b[K\r",
      "remote: Counting objects:  83% (2529/3046)\u001b[K\r",
      "remote: Counting objects:  84% (2559/3046)\u001b[K\r",
      "remote: Counting objects:  85% (2590/3046)\u001b[K\r",
      "remote: Counting objects:  86% (2620/3046)\u001b[K\r",
      "remote: Counting objects:  87% (2651/3046)\u001b[K\r",
      "remote: Counting objects:  88% (2681/3046)\u001b[K\r",
      "remote: Counting objects:  89% (2711/3046)\u001b[K\r",
      "remote: Counting objects:  90% (2742/3046)\u001b[K\r",
      "remote: Counting objects:  91% (2772/3046)\u001b[K\r",
      "remote: Counting objects:  92% (2803/3046)\u001b[K\r",
      "remote: Counting objects:  93% (2833/3046)\u001b[K\r",
      "remote: Counting objects:  94% (2864/3046)\u001b[K\r",
      "remote: Counting objects:  95% (2894/3046)\u001b[K\r",
      "remote: Counting objects:  96% (2925/3046)\u001b[K\r",
      "remote: Counting objects:  97% (2955/3046)\u001b[K\r",
      "remote: Counting objects:  98% (2986/3046)\u001b[K\r",
      "remote: Counting objects:  99% (3016/3046)\u001b[K\r",
      "remote: Counting objects: 100% (3046/3046)\u001b[K\r",
      "remote: Counting objects: 100% (3046/3046), done.\u001b[K\n",
      "remote: Compressing objects: 100% (3043/3043), done.\u001b[K\n",
      "remote: Total 3046 (delta 0), reused 3043 (delta 0), pack-reused 0\u001b[K\n",
      "Receiving objects: 100% (3046/3046), 79.25 MiB | 41.62 MiB/s, done.\n"
     ]
    }
   ],
   "source": []
  },
  {
   "cell_type": "markdown",
   "metadata": {
    "id": "Svv2b2VF87Gy"
   },
   "source": [
    "## Import necessary Libraries "
   ]
  },
  {
   "cell_type": "code",
   "execution_count": null,
   "metadata": {
    "id": "UKtfbc8autX4"
   },
   "outputs": [],
   "source": [
    "import os\n",
    "import random\n",
    "from tqdm import tqdm\n",
    "import numpy as np\n",
    "import pandas as pd\n",
    "import matplotlib.pyplot as plt\n",
    "import seaborn as sns\n",
    "\n",
    "import cv2\n",
    "import tensorflow as tf\n",
    "from tensorflow.keras.preprocessing.image import load_img,ImageDataGenerator, array_to_img\n",
    "from tensorflow.keras.applications import EfficientNetB1\n",
    "\n",
    "from tensorflow.keras.models import Model\n",
    "from tensorflow.keras.layers import Flatten,Dense,Conv2D,Dropout,GlobalAveragePooling2D\n",
    "\n",
    "from tensorflow.keras.optimizers import Adam\n",
    "from tensorflow.keras.callbacks import ModelCheckpoint,EarlyStopping\n",
    "import imutils    \n"
   ]
  },
  {
   "cell_type": "markdown",
   "metadata": {
    "id": "zQY0-G-n90nK"
   },
   "source": [
    "## Creating Directories to store Cropped Images"
   ]
  },
  {
   "cell_type": "code",
   "execution_count": null,
   "metadata": {
    "id": "uzNB7ARx0IAl"
   },
   "outputs": [],
   "source": [
    "# Create Directory for Training Data"
   ]
  },
  {
   "cell_type": "code",
   "execution_count": null,
   "metadata": {
    "id": "GY3ZoFksAOtL"
   },
   "outputs": [],
   "source": [
    "# Create Directory for Testing Data"
   ]
  },
  {
   "cell_type": "markdown",
   "metadata": {
    "id": "CjL25jsG-cfr"
   },
   "source": [
    "## Data Visualization"
   ]
  },
  {
   "cell_type": "code",
   "execution_count": null,
   "metadata": {
    "id": "YTF3Y9qH-xuw"
   },
   "outputs": [],
   "source": []
  },
  {
   "cell_type": "markdown",
   "metadata": {
    "id": "h8lT8JvM-yvZ"
   },
   "source": [
    "## Create a Function to Crop Images"
   ]
  },
  {
   "cell_type": "code",
   "execution_count": null,
   "metadata": {
    "id": "PC9Y44H2utX9"
   },
   "outputs": [],
   "source": []
  },
  {
   "cell_type": "markdown",
   "metadata": {
    "id": "i80C1X39_QiK"
   },
   "source": [
    "## Saving The Cropped Images "
   ]
  },
  {
   "cell_type": "code",
   "execution_count": 3,
   "metadata": {
    "id": "-sTiAazGutX-"
   },
   "outputs": [],
   "source": [
    "# Crop the Training Images and Save it to the Directory we previously cretaed"
   ]
  },
  {
   "cell_type": "code",
   "execution_count": null,
   "metadata": {
    "id": "5BDz8hYHutX_"
   },
   "outputs": [],
   "source": [
    "# Crop the Testing Images and Save it to the Directory we previously cretaed"
   ]
  },
  {
   "cell_type": "markdown",
   "metadata": {
    "id": "gO6qUtpMutYD"
   },
   "source": [
    "## Perform Data Augmentation and Prepare the Train, Validation and Test Dataset"
   ]
  },
  {
   "cell_type": "code",
   "execution_count": null,
   "metadata": {
    "id": "nYupR0plutYD"
   },
   "outputs": [],
   "source": [
    "# Use Image Data Generator to perform this task."
   ]
  },
  {
   "cell_type": "code",
   "execution_count": null,
   "metadata": {
    "id": "XWNduohCB7_X"
   },
   "outputs": [],
   "source": [
    "# View the class dictionary"
   ]
  },
  {
   "cell_type": "code",
   "execution_count": null,
   "metadata": {
    "id": "3v7rXZbjCDAs"
   },
   "outputs": [],
   "source": [
    "# View the augmented data."
   ]
  },
  {
   "cell_type": "markdown",
   "metadata": {
    "id": "8qY4YSGuutYE"
   },
   "source": [
    "## Build and Compile the Model "
   ]
  },
  {
   "cell_type": "code",
   "execution_count": null,
   "metadata": {
    "id": "nZWBuyccCqFr"
   },
   "outputs": [],
   "source": [
    "# Build the Model"
   ]
  },
  {
   "cell_type": "markdown",
   "metadata": {
    "id": "DFcjorVNutYF"
   },
   "source": [
    "## Model Training and Model Evaluation"
   ]
  },
  {
   "cell_type": "code",
   "execution_count": 1,
   "metadata": {
    "id": "BlpDiDd3utYF"
   },
   "outputs": [],
   "source": [
    "# Train the model"
   ]
  },
  {
   "cell_type": "code",
   "execution_count": 2,
   "metadata": {
    "id": "LbNZtVC7utYG"
   },
   "outputs": [],
   "source": [
    "# Plot the training curves"
   ]
  },
  {
   "cell_type": "code",
   "execution_count": 3,
   "metadata": {
    "id": "F55_FNzZutYF"
   },
   "outputs": [],
   "source": [
    "# Evaluate the model on Test Set"
   ]
  },
  {
   "cell_type": "markdown",
   "metadata": {
    "id": "qx5tUD-JutYH"
   },
   "source": [
    "## Obtaining Predictions on Test Images"
   ]
  },
  {
   "cell_type": "code",
   "execution_count": 4,
   "metadata": {
    "id": "M80yL7QlDgMX"
   },
   "outputs": [],
   "source": [
    "# Obtain Predictions on Test Images"
   ]
  }
 ],
 "metadata": {
  "colab": {
   "collapsed_sections": [],
   "name": "Brain-Tumor-Classification.ipynb",
   "provenance": []
  },
  "kernelspec": {
   "display_name": "Python 3",
   "language": "python",
   "name": "python3"
  },
  "language_info": {
   "codemirror_mode": {
    "name": "ipython",
    "version": 3
   },
   "file_extension": ".py",
   "mimetype": "text/x-python",
   "name": "python",
   "nbconvert_exporter": "python",
   "pygments_lexer": "ipython3",
   "version": "3.8.5"
  }
 },
 "nbformat": 4,
 "nbformat_minor": 1
}
